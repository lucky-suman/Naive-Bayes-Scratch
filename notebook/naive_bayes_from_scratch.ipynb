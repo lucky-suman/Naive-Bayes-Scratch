{
 "cells": [
  {
   "cell_type": "code",
   "execution_count": 1,
   "metadata": {},
   "outputs": [],
   "source": [
    "#Initialize all the packages.\n",
    "import os\n",
    "import json\n",
    "import numpy as np\n",
    "import pandas as pd\n",
    "from io import StringIO\n",
    "import random\n",
    "from sklearn.metrics import f1_score"
   ]
  },
  {
   "cell_type": "code",
   "execution_count": 2,
   "metadata": {},
   "outputs": [],
   "source": [
    "#Read the data\n",
    "with open(\"/home/lsuman/projects/naive_bayes_scratch/data/haberman.data\", 'r') as f:\n",
    "    data_dump = f.read()\n",
    "data_ = pd.read_csv(StringIO(data_dump), sep=',', names = ['age', 'year_o_op', 'pos_nodes', 'survival_state'])"
   ]
  },
  {
   "cell_type": "code",
   "execution_count": 3,
   "metadata": {},
   "outputs": [],
   "source": [
    "#Define classes and features.\n",
    "unique_classes = data_['survival_state'].unique()\n",
    "features = ['age', 'year_o_op', 'pos_nodes']"
   ]
  },
  {
   "cell_type": "code",
   "execution_count": 4,
   "metadata": {
    "scrolled": true
   },
   "outputs": [],
   "source": [
    "#Split the dataset into training and testing (70, 30%).\n",
    "data_ = data_.sample(frac=1)\n",
    "test_df = data_.sample(frac = 0.3)\n",
    "train_df = data_.drop(test_df.index)"
   ]
  },
  {
   "cell_type": "code",
   "execution_count": 5,
   "metadata": {
    "scrolled": true
   },
   "outputs": [],
   "source": [
    "#Create probability map for feature values according to class values.\n",
    "def create_prob_map(classes, train_df)->list:\n",
    "    class_prob = dict()\n",
    "    class_ind_prob = dict()\n",
    "    for class_val in classes:\n",
    "        feature_prob = dict()\n",
    "        data_df = train_df[train_df['survival_state'] == class_val]\n",
    "        total_count = len(data_df)\n",
    "        for feature_val in features:\n",
    "            feature_val_prob = dict()\n",
    "            for val, count in data_df[feature_val].value_counts().iteritems():\n",
    "    #             print(\"feature is\", feature_val, \"Value is\", val)\n",
    "                prob = float(count/total_count)\n",
    "                feature_val_prob[val] = prob\n",
    "            feature_prob[feature_val] = feature_val_prob\n",
    "        class_ind_prob[class_val] = feature_prob\n",
    "        class_prob[class_val] = total_count/len(train_df)\n",
    "    return [class_prob, class_ind_prob]\n",
    "\n",
    "#Calculate the probability for given new feature.\n",
    "def calculate_prob(new_feature, dict_struct, class_prob):\n",
    "    if not isinstance(new_feature, pd.Series):\n",
    "        raise IOError(\"Argument should be in pandas series\")\n",
    "    out_prob = dict()\n",
    "    for class_val in list(class_prob.keys()):\n",
    "        class_prob_ = class_prob[class_val]\n",
    "        for feature, val in new_feature.iteritems():\n",
    "            try:\n",
    "                class_prob_ *= dict_struct[class_val][feature][val]\n",
    "            except KeyError:\n",
    "                class_prob_ = 0\n",
    "        out_prob[class_val] = class_prob_\n",
    "    return out_prob\n",
    "                \n",
    "#Claasify the data according to given probability distribution.\n",
    "def classify(new_feature, dict_struct, class_prob):\n",
    "    predicted_prob = calculate_prob(new_feature, dict_struct, class_prob)\n",
    "    mx = 0\n",
    "    predicted_class = ''\n",
    "    for class_, prob in predicted_prob.items():\n",
    "        if prob>mx:\n",
    "            mx = prob\n",
    "            predicted_class = class_\n",
    "    return predicted_class\n",
    "    \n",
    "#Calculate the simple accuracy.\n",
    "def cal_accuracy(data_df, features, prob_map, class_prob):\n",
    "    correct_predicted_ops = []\n",
    "    actual_ops = []\n",
    "    for i in data_df.index:\n",
    "        op = classify(data_df.loc[i, features], prob_map, class_prob)\n",
    "        if op == data_df.loc[i, 'survival_state']:   \n",
    "            correct_predicted_ops.append(op)\n",
    "        actual_ops.append(data_df.loc[i, 'survival_state'])\n",
    "    accuracy = len(correct_predicted_ops)/len(actual_ops)\n",
    "    return accuracy"
   ]
  },
  {
   "cell_type": "code",
   "execution_count": 155,
   "metadata": {
    "scrolled": true
   },
   "outputs": [
    {
     "name": "stdout",
     "output_type": "stream",
     "text": [
      "Test Acuracy is:  67.3913043478261 %\n"
     ]
    }
   ],
   "source": [
    "#Accuracy for test data.\n",
    "class_prob_, class_ind_prob_ = create_prob_map(unique_classes, train_df)    \n",
    "test_accuracy = cal_accuracy(test_df, features, prob_map=class_ind_prob_, class_prob=class_prob_)\n",
    "print(\"Test Acuracy is: \", test_accuracy*100, '%')"
   ]
  }
 ],
 "metadata": {
  "kernelspec": {
   "display_name": "Python 3",
   "language": "python",
   "name": "python3"
  },
  "language_info": {
   "codemirror_mode": {
    "name": "ipython",
    "version": 3
   },
   "file_extension": ".py",
   "mimetype": "text/x-python",
   "name": "python",
   "nbconvert_exporter": "python",
   "pygments_lexer": "ipython3",
   "version": "3.7.4"
  }
 },
 "nbformat": 4,
 "nbformat_minor": 2
}
